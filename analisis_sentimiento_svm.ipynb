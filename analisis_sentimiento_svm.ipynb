{
  "cells": [
    {
      "cell_type": "code",
      "execution_count": 1,
      "metadata": {
        "colab": {
          "base_uri": "https://localhost:8080/"
        },
        "id": "B42IthX-E6mO",
        "outputId": "f4be42b8-7ffc-4b2b-807a-d35a02e9f346"
      },
      "outputs": [
        {
          "name": "stderr",
          "output_type": "stream",
          "text": [
            "[nltk_data] Downloading package stopwords to\n",
            "[nltk_data]     /Users/sergio/nltk_data...\n",
            "[nltk_data]   Package stopwords is already up-to-date!\n"
          ]
        }
      ],
      "source": [
        "# Herramientas\n",
        "import numpy as np\n",
        "import pandas as pd\n",
        "import re\n",
        "\n",
        "# NLP\n",
        "import nltk\n",
        "nltk.download('stopwords')\n",
        "from sklearn.feature_extraction.text import CountVectorizer\n",
        "from sklearn.feature_selection import SelectKBest, chi2\n",
        "from nltk.corpus import stopwords\n",
        "\n",
        "# Visualización\n",
        "import matplotlib.pyplot as plt\n",
        "\n",
        "# Sklearn\n",
        "from sklearn.feature_extraction.text import CountVectorizer\n",
        "from sklearn import svm\n",
        "from sklearn.model_selection import GridSearchCV\n",
        "from sklearn import metrics\n",
        "from sklearn.metrics import accuracy_score, confusion_matrix, f1_score, precision_recall_fscore_support, ConfusionMatrixDisplay\n",
        "\n"
      ]
    },
    {
      "cell_type": "markdown",
      "metadata": {
        "id": "hnTBlvhAF79Q"
      },
      "source": [
        "### Datos"
      ]
    },
    {
      "cell_type": "code",
      "execution_count": 2,
      "metadata": {
        "colab": {
          "base_uri": "https://localhost:8080/"
        },
        "id": "eBJXzpbWFRCk",
        "outputId": "57b6bcca-5f02-46d7-b06c-f54452378f59"
      },
      "outputs": [
        {
          "name": "stdout",
          "output_type": "stream",
          "text": [
            "['q se puede esperar del maricon de closet de la yañez aun recuerdo esa ves q lo vi en zona rosa viendo quien lo levantada', 'la piel nueva siempre arde un poquito los primeros días y más con este puto clima', 'ustedes no se enamoran de mí por tontas', 'me las va a pagar esa puta gorda roba tuits', 'la gente es tonta porque no se dan cuenta que tú haces a batman azul', 'estoy muy encabronada con las pseudo feministas por tontas e iletradas a veces me avergüenza ser mujer preferiría tener un falo', 'anden putos recuerdan el fuera de esto se llama ehhhhhhhh', 'si no tienen chichis no traten de enseñar se ven muy mal y más cuando son prietas', 'ojalá asi me agarrars cuando te digo que me voy en lugar de correrme a la verga cada 5 minutos', 'es solo un hdp aprovechado y que su diosito bimbo me perdone']\n",
            "5278\n",
            "[1 0 1 1 0 1 1 1 0 1]\n"
          ]
        }
      ],
      "source": [
        "# Cargamos los datos\n",
        "def load_data(file_path):\n",
        "    try:\n",
        "        return pd.read_csv(file_path, sep='\\r\\n', engine='python', header=None).loc[:, 0].values.tolist()\n",
        "    except Exception as e:\n",
        "        print(f\"Error loading data: {e}\")\n",
        "        return []\n",
        "\n",
        "# Limpiamos el texto\n",
        "def preprocess_tweet(tweet):\n",
        "    tweet = re.sub(r'http\\S+', '', tweet)\n",
        "    tweet = re.sub(r'@\\S+', '', tweet)\n",
        "    tweet = re.sub(r'#\\S+', '', tweet)\n",
        "    tweet = tweet.lower()\n",
        "    tweet = re.sub(r'\\W', ' ', tweet)\n",
        "    tweet = re.sub(r'\\s+', ' ', tweet).strip()\n",
        "    return tweet\n",
        "\n",
        "X_train = [preprocess_tweet(tweet) for tweet in load_data('./mex20_train.txt')]\n",
        "X_val   = [preprocess_tweet(tweet) for tweet in load_data('./mex20_val.txt')]\n",
        "y_train = np.array(load_data('./mex20_train_labels.txt')).reshape(-1)\n",
        "y_val   = np.array(load_data('./mex20_val_labels.txt')).reshape(-1)\n",
        "\n",
        "print(X_train[:10])\n",
        "print(len(X_train))\n",
        "print(y_train[:10])"
      ]
    },
    {
      "cell_type": "markdown",
      "metadata": {
        "id": "V67QWrDHozyX"
      },
      "source": [
        "### Vectorizar"
      ]
    },
    {
      "cell_type": "code",
      "execution_count": 56,
      "metadata": {
        "id": "LPgAxn9aoyZB"
      },
      "outputs": [],
      "source": [
        "# Crear el CountVectorizer, pasando las stopwords en español\n",
        "stop_words = stopwords.words('spanish')\n",
        "vectorizer = CountVectorizer(stop_words=stop_words)\n",
        "\n",
        "# Ajustar el vectorizador en el conjunto de entrenamiento\n",
        "bag_of_words_train = vectorizer.fit_transform(X_train)\n",
        "\n",
        "# Transformar el conjunto de validación\n",
        "bag_of_words_val = vectorizer.transform(X_val)"
      ]
    },
    {
      "cell_type": "markdown",
      "metadata": {
        "id": "QUknZcAIIm42"
      },
      "source": [
        "### Clasificar"
      ]
    },
    {
      "cell_type": "code",
      "execution_count": 57,
      "metadata": {
        "colab": {
          "base_uri": "https://localhost:8080/",
          "height": 645
        },
        "id": "D09joMCwIlRM",
        "outputId": "2f328430-0f88-40c9-d3da-887448887d05"
      },
      "outputs": [
        {
          "data": {
            "image/png": "[encoded data removed]",
            "text/plain": [
              "<Figure size 640x480 with 2 Axes>"
            ]
          },
          "metadata": {},
          "output_type": "display_data"
        },
        {
          "name": "stdout",
          "output_type": "stream",
          "text": [
            "[[369  49]\n",
            " [ 46 123]]\n",
            "              precision    recall  f1-score   support\n",
            "\n",
            "           0       0.89      0.88      0.89       418\n",
            "           1       0.72      0.73      0.72       169\n",
            "\n",
            "    accuracy                           0.84       587\n",
            "   macro avg       0.80      0.81      0.80       587\n",
            "weighted avg       0.84      0.84      0.84       587\n",
            "\n"
          ]
        }
      ],
      "source": [
        "# Crear el CountVectorizer, pasando las stopwords en español\n",
        "stop_words = stopwords.words('spanish')\n",
        "vectorizer = CountVectorizer(stop_words=stop_words)\n",
        "\n",
        "# Ajustar el vectorizador en el conjunto de entrenamiento\n",
        "bag_of_words_train = vectorizer.fit_transform(X_train)\n",
        "\n",
        "# Transformar el conjunto de validación\n",
        "bag_of_words_val = vectorizer.transform(X_val)\n",
        "\n",
        "# Clasificación\n",
        "parameters = {'C': [.05, .12, .25, .5, 1, 2, 4]}\n",
        "svr = svm.LinearSVC(class_weight='balanced')\n",
        "grid = GridSearchCV(\n",
        "    estimator=svr,\n",
        "    param_grid=parameters,\n",
        "    n_jobs=8,\n",
        "    scoring='f1_macro',\n",
        "    cv=5\n",
        ")\n",
        "grid.fit(bag_of_words_train, y_train)\n",
        "\n",
        "# Predicción\n",
        "y_pred = grid.predict(bag_of_words_val)\n",
        "p, r, f, _ = precision_recall_fscore_support(\n",
        "    y_val,\n",
        "    y_pred,\n",
        "    average='macro'\n",
        ")\n",
        "\n",
        "# Matriz de confusión\n",
        "cm = confusion_matrix(y_val, y_pred)\n",
        "\n",
        "# Mostrar la matriz de confusión\n",
        "disp = ConfusionMatrixDisplay(confusion_matrix=cm)\n",
        "disp.plot(cmap=plt.cm.Blues)\n",
        "plt.show()\n",
        "\n",
        "# Evaluación del modelo\n",
        "print(confusion_matrix(y_val, y_pred))\n",
        "print(metrics.classification_report(y_val, y_pred))"
      ]
    }
  ],
  "metadata": {
    "colab": {
      "provenance": []
    },
    "kernelspec": {
      "display_name": "Python 3",
      "name": "python3"
    },
    "language_info": {
      "codemirror_mode": {
        "name": "ipython",
        "version": 3
      },
      "file_extension": ".py",
      "mimetype": "text/x-python",
      "name": "python",
      "nbconvert_exporter": "python",
      "pygments_lexer": "ipython3",
      "version": "3.9.18"
    }
  },
  "nbformat": 4,
  "nbformat_minor": 0
}
